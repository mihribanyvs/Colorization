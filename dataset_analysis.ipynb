{
 "cells": [
  {
   "cell_type": "code",
   "execution_count": 35,
   "metadata": {},
   "outputs": [],
   "source": [
    "import numpy as np\n",
    "import matplotlib.pyplot as plt\n",
    "import pickle\n",
    "import torch\n",
    "from torch.utils.data import Dataset, DataLoader\n",
    "import torch\n",
    "import torch.nn as nn\n",
    "import torch.optim as optim\n",
    "import torchvision.transforms as transforms\n",
    "import torchvision.datasets as datasets\n",
    "from PIL import Image\n",
    "import numpy as np\n",
    "import os\n",
    "from torchvision import transforms\n",
    "import cv2\n"
   ]
  },
  {
   "cell_type": "code",
   "execution_count": 8,
   "metadata": {},
   "outputs": [],
   "source": [
    "def unpickle(file):\n",
    "    with open(file, 'rb') as fo:\n",
    "        dict = pickle.load(fo, encoding='bytes')\n",
    "    return dict"
   ]
  },
  {
   "cell_type": "code",
   "execution_count": 68,
   "metadata": {},
   "outputs": [],
   "source": [
    "# Carica il train_set (modifica in base alla posizione del tuo file)\n",
    "train_set = unpickle('train')\n",
    "\n",
    "# Estrai il nome dei file e i dati delle immagini\n",
    "filenames = [f.decode('utf-8') for f in train_set[b'filenames']]  # Decodifica da byte a stringa\n",
    "\n",
    "\n",
    "images_data = train_set[b'data']  # Supponiamo che le immagini siano in un array NumPy\n",
    "\n",
    "# Crea una classe Dataset personalizzata\n",
    "class CustomDataset(Dataset):\n",
    "    def __init__(self, filenames, images_data, transform=None):\n",
    "        self.filenames = filenames # nomi delle immagini\n",
    "        self.images_data = images_data # nomi dei file \n",
    "        self.transform = transform\n",
    "\n",
    "    def __len__(self):\n",
    "        return len(self.filenames)\n",
    "\n",
    "    def __getitem__(self, idx):\n",
    "        # Carica l'immagine dal dataset\n",
    "        img_data = self.images_data[idx]\n",
    "        img = np.array(img_data, dtype=np.uint8).reshape(3, 32, 32)  # (C, H, W) -> RGB, adatta la forma a seconda del tuo caso\n",
    "\n",
    "       \n",
    "        img = Image.fromarray(np.transpose(img, (1, 2, 0)))  # Cambia l'ordine (H, W, C) a (C, H, W)\n",
    "\n",
    "       \n",
    "        if self.transform:\n",
    "            img = self.transform(img)\n",
    "\n",
    "        return img, self.filenames[idx]\n",
    "\n",
    "# Definisci le trasformazioni, ad esempio: ridimensionamento, normalizzazione, ecc.\n",
    "transform = transforms.Compose([\n",
    "    transforms.ToTensor(),  # Converte l'immagine in un tensor\n",
    "  #  transforms.Normalize(mean=[0.485, 0.456, 0.406], std=[0.229, 0.224, 0.225])  # Normalizzazione tipica\n",
    "])\n",
    "\n",
    "\n",
    "dataset = CustomDataset(filenames=filenames, images_data=images_data, transform=transform)\n",
    "train_loader = DataLoader(dataset, batch_size=32, shuffle = False)"
   ]
  },
  {
   "cell_type": "code",
   "execution_count": null,
   "metadata": {},
   "outputs": [
    {
     "data": {
      "text/plain": [
       "<torch.utils.data.dataloader.DataLoader at 0x127da5250>"
      ]
     },
     "execution_count": 70,
     "metadata": {},
     "output_type": "execute_result"
    }
   ],
   "source": [
    "for batch in train_loader:\n",
    "    image_tensor, _, _ = batch  # Estrai dati dal batch\n",
    "\n",
    "\n",
    "    image_rgb = image_tensor[0, :, :, :]  # Prima immagine del batch (RGB)\n",
    "    \n",
    "    image_yuv = rgb_to_yuv(image_rgb)  # Conversione a YUV\n",
    "\n",
    "    y_chan = image_yuv[0, :, :]\n",
    "    u_chan = image_yuv[1, :, :]\n",
    "    v_chan = image_yuv[2, :, :]"
   ]
  },
  {
   "cell_type": "markdown",
   "metadata": {},
   "source": [
    "Checking the color frequencies of the images with the bins created for training"
   ]
  },
  {
   "cell_type": "code",
   "execution_count": 64,
   "metadata": {},
   "outputs": [],
   "source": [
    "import numpy as np\n",
    "import torch\n",
    "import cv2\n",
    "\n",
    "def process_images(images_data, bin_count=50):\n",
    "    \"\"\"\n",
    "    Converts images from RGB to YUV, bins the U and V channels, \n",
    "    and concatenates all data into a single tensor.\n",
    "\n",
    "    Args:\n",
    "        images_data (list): List of flattened RGB images.\n",
    "        bin_count (int): Number of bins for U and V channels.\n",
    "\n",
    "    Returns:\n",
    "        torch.Tensor: Concatenated YUV data.\n",
    "        torch.Tensor: Concatenated U bins.\n",
    "        torch.Tensor: Concatenated V bins.\n",
    "    \"\"\"\n",
    "    bins = np.linspace(0, 1, bin_count + 1)  # Define bin edges\n",
    "\n",
    "    def bin_labels(values):\n",
    "        return np.digitize(values, bins) - 1  # Map values to bin indices\n",
    "\n",
    "    all_Y = []\n",
    "    all_U_binned = []\n",
    "    all_V_binned = []\n",
    "\n",
    "    for img_data in images_data:\n",
    "        img_rgb = np.array(img_data, dtype=np.uint8).reshape(3, 32, 32)\n",
    "        img_rgb = np.transpose(img_rgb, (1, 2, 0))  # Convert to HxWxC format\n",
    "\n",
    "        # Convert RGB to LUV (YUV-like)\n",
    "        image_yuv = cv2.cvtColor(img_rgb, cv2.COLOR_RGB2Luv)\n",
    "\n",
    "        # Normalize Y to [0,1]\n",
    "        Y_channel = image_yuv[:, :, 0] / 255.0\n",
    "        U_channel = image_yuv[:, :, 1] / 255.0\n",
    "        V_channel = image_yuv[:, :, 2] / 255.0\n",
    "\n",
    "        # Bin U and V channels\n",
    "        U_binned = bin_labels(U_channel)\n",
    "        print(U_binned[0],U_channel[0])\n",
    "        V_binned = bin_labels(V_channel)\n",
    "\n",
    "        # Store results\n",
    "        all_Y.append(Y_channel[np.newaxis, :, :])  # Add channel dim\n",
    "        all_U_binned.append(U_binned)\n",
    "        all_V_binned.append(V_binned)\n",
    "\n",
    "    # Convert to PyTorch tensors\n",
    "    all_Y = np.array(np.stack(all_Y), dtype=np.float32)  # Shape: (N, 1, 32, 32)\n",
    "    all_U_binned = np.array(np.stack(all_U_binned), dtype=np.long)  # (N, 32, 32)\n",
    "    all_V_binned = np.array(np.stack(all_V_binned), dtype=np.long)  # (N, 32, 32)\n",
    "\n",
    "    return all_Y, all_U_binned, all_V_binned\n"
   ]
  },
  {
   "cell_type": "markdown",
   "metadata": {},
   "source": [
    "Show the bins in the UV map"
   ]
  },
  {
   "cell_type": "code",
   "execution_count": null,
   "metadata": {},
   "outputs": [
    {
     "data": {
      "image/png": "[encoded data removed]",
      "text/plain": [
       "<Figure size 1200x500 with 2 Axes>"
      ]
     },
     "metadata": {},
     "output_type": "display_data"
    }
   ],
   "source": [
    "def plot_uv_histogram_pytorch(all_U_binned, all_V_binned, bin_count=50):\n",
    "    \"\"\"\n",
    "    Creates a histogram of binned U and V values using PyTorch.\n",
    "    \"\"\"\n",
    "    U_flat = all_U_binned.flatten()  # Flatten tensor\n",
    "    V_flat = all_V_binned.flatten()\n",
    "\n",
    "    # Compute 2D histogram\n",
    "    #hist, x_edges, y_edges = np.histogram2d(U_flat, V_flat, bins=bin_count, range=[[0, bin_count], [0, bin_count]])\n",
    "    bins_u, counts_u = np.unique(all_U_binned.flatten(),return_counts=True)[0],np.unique(all_U_binned.flatten(),return_counts=True)[1]\n",
    "\n",
    "    bins_v, counts_v = np.unique(all_V_binned.flatten(),return_counts=True)[0],np.unique(all_V_binned.flatten(),return_counts=True)[1]\n",
    "\n",
    "    # Plot heatmap\n",
    "    fig, ax = plt.subplots(1, 2, figsize=(12, 5))\n",
    "    ax[0].bar(bins_u, counts_u, color='blue')\n",
    "    ax[0].set_xlabel(\"U Bins\")\n",
    "    ax[0].set_ylabel(\"Counts\")\n",
    "    ax[0].set_title(\"Histogram of U values\")\n",
    "\n",
    "    ax[1].bar(bins_v, counts_v, color='red')\n",
    "    ax[1].set_xlabel(\"V Bins\")\n",
    "    ax[1].set_ylabel(\"Counts\")\n",
    "    ax[1].set_title(\"Histogram of V values\")\n",
    "\n",
    "    plt.show()\n",
    "# Example usage\n",
    "plot_uv_histogram_pytorch(all_U_binned, all_V_binned, bin_count=50)\n",
    "\n"
   ]
  },
  {
   "cell_type": "code",
   "execution_count": 59,
   "metadata": {},
   "outputs": [],
   "source": [
    "max_V = np.unique(all_V_binned.flatten(),return_counts=True)[0][np.argmax(np.unique(all_V_binned.flatten(),return_counts=True)[1])]\n",
    "max_U = np.unique(all_U_binned.flatten(),return_counts=True)[0][np.argmax(np.unique(all_U_binned.flatten(),return_counts=True)[1])]"
   ]
  },
  {
   "cell_type": "code",
   "execution_count": 63,
   "metadata": {},
   "outputs": [
    {
     "data": {
      "image/png": "[encoded data removed]",
      "text/plain": [
       "<Figure size 600x600 with 1 Axes>"
      ]
     },
     "metadata": {},
     "output_type": "display_data"
    }
   ],
   "source": [
    "# Define the number of bins\n",
    "num_bins = 50\n",
    "\n",
    "Y_fixed=128\n",
    "\n",
    "# Create binned U and V values\n",
    "U_bins = np.linspace(-128, 127, num_bins)\n",
    "V_bins = np.linspace(-128, 127, num_bins)\n",
    "\n",
    "# Create an image grid for binned U and V values\n",
    "UV_binned_grid = np.zeros((num_bins, num_bins, 3), dtype=np.uint8)\n",
    "\n",
    "# Iterate over the binned U, V values and convert to RGB\n",
    "for i, U in enumerate(U_bins):\n",
    "    for j, V in enumerate(V_bins):\n",
    "        # Convert YUV to BGR\n",
    "        YUV_color = np.array([Y_fixed, U + 128, V + 128], dtype=np.uint8)\n",
    "        BGR_color = cv2.cvtColor(YUV_color.reshape(1, 1, 3), cv2.COLOR_YUV2BGR)\n",
    "        UV_binned_grid[j, i] = BGR_color  # Assign to image (swapping j, i)\n",
    "\n",
    "# Display the binned UV color map\n",
    "plt.figure(figsize=(6, 6))\n",
    "plt.scatter(max_U,max_V,s=50, facecolors='none', edgecolors='black',label=\"Most frequent bin\")\n",
    "plt.imshow(UV_binned_grid, extent=[0, num_bins - 1, 0, num_bins - 1])\n",
    "plt.xlabel(\"U (Cb) Channel\")\n",
    "plt.ylabel(\"V (Cr) Channel\")\n",
    "plt.title(f\"UV Color Map (Y = 128) with {num_bins} Bins\")\n",
    "plt.legend()\n",
    "plt.grid(False)\n",
    "\n",
    "plt.show()"
   ]
  },
  {
   "cell_type": "markdown",
   "metadata": {},
   "source": [
    "Creating the probability distribution"
   ]
  },
  {
   "cell_type": "code",
   "execution_count": null,
   "metadata": {},
   "outputs": [
    {
     "name": "stdout",
     "output_type": "stream",
     "text": [
      "True\n"
     ]
    }
   ],
   "source": [
    "#\n",
    "bins_u, counts_u = np.unique(all_U_binned.flatten(),return_counts=True)[0],np.unique(all_U_binned.flatten(),return_counts=True)[1]\n",
    "bins_v, counts_v = np.unique(all_V_binned.flatten(),return_counts=True)[0],np.unique(all_V_binned.flatten(),return_counts=True)[1]\n",
    "\n",
    "total_pixel = np.sum(counts_u)\n",
    "full_bins = np.arange(0, num_bins + 1)\n",
    "\n",
    "# Create a dictionary mapping existing bins to their counts\n",
    "bin_count_dict_u = dict(zip(bins_u, counts_u))\n",
    "bin_count_dict_v = dict(zip(bins_v, counts_v))\n",
    "\n",
    "# Ensure all bins have a count (default to 0 for missing bins)\n",
    "full_counts_u = np.array([bin_count_dict_u.get(b, 0) for b in full_bins])\n",
    "full_counts_v = np.array([bin_count_dict_v.get(b, 0) for b in full_bins])\n",
    "\n",
    "probs_u = full_counts_u / np.sum(full_counts_u)\n",
    "probs_v = full_counts_v / np.sum(full_counts_v)\n",
    "\n",
    "def u_distrib():\n",
    "    return np.random.choice(full_bins, nunits,p=probs_u)\n",
    "\n",
    "def v_distrib():\n",
    "    return np.random.choice(full_bins, nunits,p=probs_v)"
   ]
  },
  {
   "cell_type": "code",
   "execution_count": 93,
   "metadata": {},
   "outputs": [
    {
     "data": {
      "text/plain": [
       "'\\n# Fake color data (ground truth and bins)\\ny_true = torch.randn(num_samples, 2)  # Ground truth colors\\nbins = torch.randn(num_bins, 2)  # Quantized ab bins\\n\\n# Soft encoding\\nsoft_labels = soft_encode(y_true, bins, sigma=5)\\n'"
      ]
     },
     "execution_count": 93,
     "metadata": {},
     "output_type": "execute_result"
    }
   ],
   "source": [
    "import torch\n",
    "import torch.nn.functional as F\n",
    "\n",
    "def compute_weights(prob_dist, lambda_param=0.5):\n",
    "    \"\"\"\n",
    "    Compute class rebalancing weights based on the pixel color distribution.\n",
    "    \"\"\"\n",
    "    Q = len(prob_dist)  # Number of quantized bins\n",
    "    uniform_dist = torch.ones(Q) / Q  # Uniform distribution\n",
    "\n",
    "    # Compute the weighted probability\n",
    "    smoothed_prob = (1 - lambda_param) * prob_dist + lambda_param * uniform_dist\n",
    "    weights = 1.0 / smoothed_prob  # Inverse probability\n",
    "    weights /= weights.sum()  # Normalize\n",
    "    \n",
    "    return weights\n",
    "\n",
    "def soft_encode(y_true, bins, sigma=5):\n",
    "    \"\"\"\n",
    "    Perform soft encoding by distributing weights across the nearest neighbors.\n",
    "    - y_true: Ground truth colors (Nx2)\n",
    "    - bins: Discrete ab bins (Qx2)\n",
    "    - sigma: Gaussian kernel standard deviation\n",
    "    \"\"\"\n",
    "    N = y_true.shape[0]\n",
    "    Q = bins.shape[0]\n",
    "    print(N,Q)\n",
    "    \n",
    "    # Compute Euclidean distance between each pixel and bin\n",
    "    dist = torch.cdist(y_true, bins)  # Shape: (N, Q)\n",
    "    \n",
    "    # Find the 5 nearest neighbors\n",
    "    knn_indices = torch.topk(-dist, k=5, dim=1).indices  # (N, 5)\n",
    "    \n",
    "    # Compute Gaussian weights\n",
    "    knn_dist = torch.gather(dist, 1, knn_indices)  # Distances to 5 nearest neighbors\n",
    "    weights = torch.exp(-knn_dist ** 2 / (2 * sigma ** 2))\n",
    "    weights /= weights.sum(dim=1, keepdim=True)  # Normalize\n",
    "    \n",
    "    # Create soft-encoded one-hot vectors\n",
    "    soft_labels = torch.zeros(N, Q)\n",
    "    soft_labels.scatter_add_(1, knn_indices, weights)\n",
    "    \n",
    "    return soft_labels\n",
    "\n",
    "\n",
    "lambda_param = 0.5\n",
    "weights = compute_weights(torch.Tensor(probs_u), lambda_param)\n",
    "\n",
    "'''\n",
    "# Fake color data (ground truth and bins)\n",
    "y_true = torch.randn(num_samples, 2)  # Ground truth colors\n",
    "bins = torch.randn(num_bins, 2)  # Quantized ab bins\n",
    "\n",
    "# Soft encoding\n",
    "soft_labels = soft_encode(y_true, bins, sigma=5)\n",
    "'''\n"
   ]
  },
  {
   "cell_type": "code",
   "execution_count": 96,
   "metadata": {},
   "outputs": [
    {
     "data": {
      "text/plain": [
       "torch.Size([51])"
      ]
     },
     "execution_count": 96,
     "metadata": {},
     "output_type": "execute_result"
    }
   ],
   "source": [
    "weights.shape"
   ]
  },
  {
   "cell_type": "code",
   "execution_count": 94,
   "metadata": {},
   "outputs": [
    {
     "name": "stdout",
     "output_type": "stream",
     "text": [
      "32 51\n"
     ]
    },
    {
     "ename": "RuntimeError",
     "evalue": "Index tensor must have the same number of dimensions as self tensor",
     "output_type": "error",
     "traceback": [
      "\u001b[0;31m---------------------------------------------------------------------------\u001b[0m",
      "\u001b[0;31mRuntimeError\u001b[0m                              Traceback (most recent call last)",
      "Cell \u001b[0;32mIn[94], line 17\u001b[0m\n\u001b[1;32m     13\u001b[0m bins \u001b[38;5;241m=\u001b[39m torch\u001b[38;5;241m.\u001b[39mTensor([np\u001b[38;5;241m.\u001b[39mlinspace(\u001b[38;5;241m0\u001b[39m, \u001b[38;5;241m1\u001b[39m, bin_count \u001b[38;5;241m+\u001b[39m \u001b[38;5;241m1\u001b[39m),np\u001b[38;5;241m.\u001b[39mlinspace(\u001b[38;5;241m0\u001b[39m, \u001b[38;5;241m1\u001b[39m, bin_count \u001b[38;5;241m+\u001b[39m \u001b[38;5;241m1\u001b[39m)])\u001b[38;5;241m.\u001b[39mT\n\u001b[1;32m     15\u001b[0m uv_channels \u001b[38;5;241m=\u001b[39m torch\u001b[38;5;241m.\u001b[39mTensor([U_channel,V_channel])\u001b[38;5;241m.\u001b[39mT\n\u001b[0;32m---> 17\u001b[0m soft_labels \u001b[38;5;241m=\u001b[39m \u001b[43msoft_encode\u001b[49m\u001b[43m(\u001b[49m\u001b[43muv_channels\u001b[49m\u001b[43m,\u001b[49m\u001b[43m \u001b[49m\u001b[43mbins\u001b[49m\u001b[43m,\u001b[49m\u001b[43m \u001b[49m\u001b[43msigma\u001b[49m\u001b[38;5;241;43m=\u001b[39;49m\u001b[38;5;241;43m5\u001b[39;49m\u001b[43m)\u001b[49m\n\u001b[1;32m     18\u001b[0m \u001b[38;5;28mprint\u001b[39m(soft_labels)\n",
      "Cell \u001b[0;32mIn[93], line 42\u001b[0m, in \u001b[0;36msoft_encode\u001b[0;34m(y_true, bins, sigma)\u001b[0m\n\u001b[1;32m     40\u001b[0m \u001b[38;5;66;03m# Create soft-encoded one-hot vectors\u001b[39;00m\n\u001b[1;32m     41\u001b[0m soft_labels \u001b[38;5;241m=\u001b[39m torch\u001b[38;5;241m.\u001b[39mzeros(N, Q)\n\u001b[0;32m---> 42\u001b[0m \u001b[43msoft_labels\u001b[49m\u001b[38;5;241;43m.\u001b[39;49m\u001b[43mscatter_add_\u001b[49m\u001b[43m(\u001b[49m\u001b[38;5;241;43m1\u001b[39;49m\u001b[43m,\u001b[49m\u001b[43m \u001b[49m\u001b[43mknn_indices\u001b[49m\u001b[43m,\u001b[49m\u001b[43m \u001b[49m\u001b[43mweights\u001b[49m\u001b[43m)\u001b[49m\n\u001b[1;32m     44\u001b[0m \u001b[38;5;28;01mreturn\u001b[39;00m soft_labels\n",
      "\u001b[0;31mRuntimeError\u001b[0m: Index tensor must have the same number of dimensions as self tensor"
     ]
    }
   ],
   "source": [
    "    \n",
    "for img_data in images_data:\n",
    "    img_rgb = np.array(img_data, dtype=np.uint8).reshape(3, 32, 32)\n",
    "    img_rgb = np.transpose(img_rgb, (1, 2, 0))  # Convert to HxWxC format\n",
    "\n",
    "    # Convert RGB to LUV (YUV-like)\n",
    "    image_yuv = cv2.cvtColor(img_rgb, cv2.COLOR_RGB2Luv)\n",
    "    \n",
    "    # Normalize Y to [0,1]\n",
    "    Y_channel = image_yuv[:, :, 0] / 255.0\n",
    "    U_channel = image_yuv[:, :, 1] / 255.0\n",
    "    V_channel = image_yuv[:, :, 2] / 255.0\n",
    "\n",
    "    bins = torch.Tensor([np.linspace(0, 1, bin_count + 1),np.linspace(0, 1, bin_count + 1)]).T\n",
    "\n",
    "    uv_channels = torch.Tensor([U_channel,V_channel]).T\n",
    "\n",
    "    soft_labels = soft_encode(uv_channels, bins, sigma=5)\n",
    "    print(soft_labels)"
   ]
  },
  {
   "cell_type": "code",
   "execution_count": null,
   "metadata": {},
   "outputs": [],
   "source": []
  }
 ],
 "metadata": {
  "kernelspec": {
   "display_name": "venv",
   "language": "python",
   "name": "python3"
  },
  "language_info": {
   "codemirror_mode": {
    "name": "ipython",
    "version": 3
   },
   "file_extension": ".py",
   "mimetype": "text/x-python",
   "name": "python",
   "nbconvert_exporter": "python",
   "pygments_lexer": "ipython3",
   "version": "3.11.9"
  }
 },
 "nbformat": 4,
 "nbformat_minor": 2
}
