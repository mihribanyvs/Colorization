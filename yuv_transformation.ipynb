{
 "cells": [
  {
   "cell_type": "code",
   "execution_count": 33,
   "metadata": {},
   "outputs": [],
   "source": [
    "from plotting import imshow\n",
    "import torch\n",
    "import numpy as np\n",
    "import pickle\n",
    "from torch.utils.data import Dataset, DataLoader\n",
    "import torchvision.transforms as transforms\n",
    "import cv2"
   ]
  },
  {
   "cell_type": "markdown",
   "metadata": {},
   "source": [
    "### Pickle functions for opening and saving"
   ]
  },
  {
   "cell_type": "code",
   "execution_count": 34,
   "metadata": {},
   "outputs": [],
   "source": [
    "def unpickle(file):\n",
    "    with open(file, 'rb') as fo:\n",
    "        dict = pickle.load(fo, encoding='bytes')\n",
    "    return dict\n",
    "\n",
    "def save_pickle(file, data):\n",
    "    with open(file, 'wb') as fo:\n",
    "        pickle.dump(data, fo)"
   ]
  },
  {
   "cell_type": "code",
   "execution_count": 35,
   "metadata": {},
   "outputs": [],
   "source": [
    "# RGB training data load\n",
    "train_set = unpickle('train')\n",
    "\n",
    "# Image names \n",
    "filenames = [f.decode('utf-8') for f in train_set[b'filenames']]\n",
    "\n",
    "# Getting the images\n",
    "images_data = train_set[b'data'].copy() \n"
   ]
  },
  {
   "cell_type": "code",
   "execution_count": null,
   "metadata": {},
   "outputs": [
    {
     "name": "stdout",
     "output_type": "stream",
     "text": [
      "(50000, 1024)\n",
      "(32, 32, 3)\n"
     ]
    },
    {
     "data": {
      "text/plain": [
       "<matplotlib.image.AxesImage at 0x124ab2350>"
      ]
     },
     "execution_count": 79,
     "metadata": {},
     "output_type": "execute_result"
    },
    {
     "data": {
      "image/png": "[encoded data removed]",
      "text/plain": [
       "<Figure size 640x480 with 1 Axes>"
      ]
     },
     "metadata": {},
     "output_type": "display_data"
    }
   ],
   "source": [
    "import matplotlib.pyplot as plt\n",
    "red = train_set[b'data'][:,0:1024]\n",
    "green = train_set[b'data'][:,1024:2048]\n",
    "blue = train_set[b'data'][:,2048:3072]\n",
    "\n",
    "\n",
    "print(red.shape)\n",
    "red = red[0].reshape(32, 32, 1)\n",
    "green = green[0].reshape(32, 32, 1)\n",
    "blue = blue[0].reshape(32, 32, 1)\n",
    "\n",
    "image = np.concatenate([red,green,blue], axis = 2)\n",
    "print(image.shape)\n",
    "plt.imshow(image)"
   ]
  },
  {
   "cell_type": "code",
   "execution_count": 57,
   "metadata": {},
   "outputs": [
    {
     "name": "stdout",
     "output_type": "stream",
     "text": [
      "[[255. 255. 255.]\n",
      " [255. 255. 255.]\n",
      " [255. 255. 255.]\n",
      " ...\n",
      " [ 34.  36.  10.]\n",
      " [105. 133.  59.]\n",
      " [138. 173.  79.]]\n"
     ]
    },
    {
     "data": {
      "text/plain": [
       "<matplotlib.image.AxesImage at 0x120015850>"
      ]
     },
     "execution_count": 57,
     "metadata": {},
     "output_type": "execute_result"
    },
    {
     "data": {
      "image/png": "[encoded data removed]",
      "text/plain": [
       "<Figure size 640x480 with 1 Axes>"
      ]
     },
     "metadata": {},
     "output_type": "display_data"
    }
   ],
   "source": [
    "img0 = np.empty((red[0].shape[0],3))\n",
    "for i in range(len(red[0])):\n",
    "    img0[i] = [int(red[0][i]),int(green[0][i]),int(blue[0][i])]\n",
    "\n",
    "print(img0)\n",
    "img0_array = np.reshape(np.array(img0,dtype=int),(32,32,3))\n",
    "plt.imshow(img0_array)"
   ]
  },
  {
   "cell_type": "markdown",
   "metadata": {},
   "source": [
    "### Data loading function to create tensors from the pickled data"
   ]
  },
  {
   "cell_type": "code",
   "execution_count": 36,
   "metadata": {},
   "outputs": [],
   "source": [
    "class CustomDataset(Dataset):\n",
    "    def __init__(self, filenames, images_data, transform=None):\n",
    "        self.filenames = filenames # image name\n",
    "        self.images_data = images_data # image data\n",
    "        self.transform = transform\n",
    "\n",
    "    def __len__(self):\n",
    "        return len(self.filenames)\n",
    "\n",
    "    def __getitem__(self, idx):\n",
    "        # Creating image from the dataset\n",
    "        img_data = self.images_data[idx]\n",
    "        img = np.array(img_data, dtype=np.uint8).reshape(3,32,32)  # (C, H, W)\n",
    "        img = np.transpose(img, (1, 2, 0))  # (H, W, C)\n",
    "\n",
    "       \n",
    "        if self.transform:\n",
    "            img = self.transform(img)\n",
    "\n",
    "        return img, self.filenames[idx]\n",
    "\n",
    "# Normalization and transforming to a tensor\n",
    "transform = transforms.Compose([\n",
    "    transforms.ToTensor(),\n",
    "])"
   ]
  },
  {
   "cell_type": "markdown",
   "metadata": {},
   "source": [
    "### Functions for color scale conversions"
   ]
  },
  {
   "cell_type": "code",
   "execution_count": 37,
   "metadata": {},
   "outputs": [],
   "source": [
    "# Input tensor(C,H,W) -> output tensor(H,W,C)\n",
    "def rgb_yuv(array):\n",
    "    new_array = array.permute(1,2, 0).numpy().copy()\n",
    "    return torch.Tensor(cv2.cvtColor(new_array, cv2.COLOR_RGB2YUV))\n",
    "\n",
    "# Input tensor(H,W,C) -> output tensor(C,H,W)\n",
    "def yuv_rgb(array):\n",
    "    new_array = array.numpy().copy()\n",
    "    new_array = cv2.cvtColor(new_array, cv2.COLOR_YUV2RGB)\n",
    "    return torch.tensor((new_array*255).astype(np.uint8)).permute(2, 0, 1)"
   ]
  },
  {
   "cell_type": "markdown",
   "metadata": {},
   "source": [
    "### Creating the YUV scaled images"
   ]
  },
  {
   "cell_type": "code",
   "execution_count": 38,
   "metadata": {},
   "outputs": [],
   "source": [
    "# Loading the RGB images\n",
    "dataset = CustomDataset(filenames=filenames, images_data=images_data,transform=transform)\n",
    "train_loader = DataLoader(dataset, batch_size=32, shuffle = False)"
   ]
  },
  {
   "cell_type": "code",
   "execution_count": 84,
   "metadata": {},
   "outputs": [],
   "source": [
    "all_yuv = []\n",
    "for batch in train_loader:\n",
    "    image_tensor, filename = batch  # Extract data from the batch\n",
    "    for idx, image_rgb in enumerate(image_tensor):\n",
    "\n",
    "        #R_channel = image_rgb[:, :, 0] #/ 255.0  # Normalize Y to [0, 1] for stability of the network \n",
    "        #G_channel = image_rgb[:, :, 1] #/ 255.0   \n",
    "        #B_channel = image_rgb[:, :, 2] #/ 255.0\n",
    "        #print(R_channel.size())\n",
    "\n",
    "        #print(torch.cat([R_channel.unsqueeze(0),G_channel,B_channel],dim=0).size())\n",
    "        \n",
    "        img_yuv = rgb_yuv(image_rgb)\n",
    "        i0 = image_rgb[0,:, :].reshape((1,1024))\n",
    "        i1= image_rgb[1,:, :].reshape((1,1024))\n",
    "        i2= image_rgb[2,:, :].reshape((1,1024))\n",
    "        array_yuv = np.concatenate([i0,i1,i2],axis=0)\n",
    "        #array_yuv = np.concatenate([img_yuv[:,:,0].reshape(1024),img_yuv[:,:,1].reshape(1024),img_yuv[:,:,2].reshape(1024)],axis=0)\n",
    "        #print(array_yuv.shape)\n",
    "        # Renormalizing and transforming to numpy array\n",
    "        all_yuv.append((array_yuv*255).astype(\"uint8\")) \n",
    "        #break\n",
    "    #break"
   ]
  },
  {
   "cell_type": "code",
   "execution_count": 85,
   "metadata": {},
   "outputs": [],
   "source": [
    "# Reshaping to match b'data' style\n",
    "all_yuv_array = np.array(all_yuv).reshape(images_data.shape)\n",
    "\n",
    "# Create new dictionary with the same structure\n",
    "yuv_train_set = train_set.copy()\n",
    "\n",
    "yuv_train_set[b'data'] = all_yuv_array\n",
    "save_pickle('yuv_train', yuv_train_set)"
   ]
  },
  {
   "cell_type": "markdown",
   "metadata": {},
   "source": [
    "### Loading YUV image dataset"
   ]
  },
  {
   "cell_type": "code",
   "execution_count": 41,
   "metadata": {},
   "outputs": [],
   "source": [
    "yuv_train_set = unpickle('yuv_train')\n",
    "\n",
    "yuv_images_data = yuv_train_set[b'data']\n",
    "\n",
    "yuv_dataset = CustomDataset(filenames=filenames, images_data=yuv_images_data, transform=transform)\n",
    "yuv_train_loader = DataLoader(yuv_dataset, batch_size=32, shuffle = False)"
   ]
  },
  {
   "cell_type": "code",
   "execution_count": 42,
   "metadata": {},
   "outputs": [
    {
     "name": "stdout",
     "output_type": "stream",
     "text": [
      "torch.Size([3, 32, 32])\n",
      "Filename: balmoral_castle_s_000361.png\n"
     ]
    },
    {
     "name": "stderr",
     "output_type": "stream",
     "text": [
      "/Users/mihriban/Desktop/Colorization/.venv/lib/python3.11/site-packages/torch/_tensor.py:868: UserWarning: non-inplace resize is deprecated\n",
      "  warnings.warn(\"non-inplace resize is deprecated\")\n"
     ]
    },
    {
     "data": {
      "image/png": "[encoded data removed]",
      "text/plain": [
       "<Figure size 640x480 with 1 Axes>"
      ]
     },
     "metadata": {},
     "output_type": "display_data"
    }
   ],
   "source": [
    "for batch in yuv_train_loader:\n",
    "    image_tensor, filename = batch  # Extract data from the batch\n",
    "\n",
    "    image_yuv = image_tensor[31]  # Frist image of the batch (YUV)\n",
    "    print(image_yuv.size())\n",
    "    # Need to resize first\n",
    "    rgb_output = yuv_rgb(image_yuv.resize(32, 32,3))\n",
    "\n",
    "    print(f\"Filename: {filename[31]}\")\n",
    "\n",
    "    imshow(rgb_output) \n",
    "    break"
   ]
  },
  {
   "cell_type": "code",
   "execution_count": null,
   "metadata": {},
   "outputs": [],
   "source": []
  }
 ],
 "metadata": {
  "kernelspec": {
   "display_name": ".venv",
   "language": "python",
   "name": "python3"
  },
  "language_info": {
   "codemirror_mode": {
    "name": "ipython",
    "version": 3
   },
   "file_extension": ".py",
   "mimetype": "text/x-python",
   "name": "python",
   "nbconvert_exporter": "python",
   "pygments_lexer": "ipython3",
   "version": "3.10.12"
  }
 },
 "nbformat": 4,
 "nbformat_minor": 2
}
