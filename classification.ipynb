{
 "cells": [
  {
   "cell_type": "code",
   "execution_count": 38,
   "metadata": {},
   "outputs": [],
   "source": [
    "from plotting import imshow\n",
    "import torch\n",
    "import torch.optim as optim\n",
    "import torch.nn as nn\n",
    "import torch.nn.functional as F\n",
    "import numpy as np\n",
    "import pickle\n",
    "from torch.utils.data import Dataset, DataLoader\n",
    "import cv2\n",
    "device = torch.device(\"cuda\" if torch.cuda.is_available() else \"cpu\")"
   ]
  },
  {
   "cell_type": "code",
   "execution_count": 39,
   "metadata": {},
   "outputs": [],
   "source": [
    "def unpickle(file):\n",
    "    with open(file, 'rb') as fo:\n",
    "        dict = pickle.load(fo, encoding='bytes')\n",
    "    return dict"
   ]
  },
  {
   "cell_type": "code",
   "execution_count": 40,
   "metadata": {},
   "outputs": [],
   "source": [
    "# RGB training data load\n",
    "yuv_train_set = unpickle('yuv_train')\n",
    "\n",
    "# Image names \n",
    "filenames = [f.decode('utf-8') for f in yuv_train_set[b'filenames']]\n",
    "\n",
    "# Getting the images\n",
    "yuv_images_data = yuv_train_set[b'data'].copy() "
   ]
  },
  {
   "cell_type": "code",
   "execution_count": 48,
   "metadata": {},
   "outputs": [],
   "source": [
    "# Input tensor(H,W,C) -> output tensor(C,H,W)\n",
    "def yuv_rgb(array):\n",
    "    new_array = array.numpy().astype(np.float32).copy()\n",
    "    new_array = cv2.cvtColor(new_array, cv2.COLOR_YUV2RGB)\n",
    "    \n",
    "    return torch.tensor((new_array*255).astype(np.uint8)).permute(2, 0, 1)"
   ]
  },
  {
   "cell_type": "code",
   "execution_count": 42,
   "metadata": {},
   "outputs": [],
   "source": [
    "class YUVImageClassificationDataset(Dataset):\n",
    "    def __init__(self, filenames, images_data, bin_count=50):\n",
    "        self.filenames = filenames # image name\n",
    "        self.images_data = images_data # images data: data used to construct the images \n",
    "        self.bin_count = bin_count # number of bins used \n",
    "        self.bins = np.linspace(0, 1, bin_count)  # Bin edges\n",
    "        # we are creating bins between 0 and 1 in order to have the values of u and v\n",
    "\n",
    "    def __len__(self):\n",
    "        return len(self.filenames)\n",
    "    \n",
    "    def bin_labels(self, values):\n",
    "        return np.digitize(values, self.bins) -1 # Map values to bin indices\n",
    "                                                   # This function takes values and assigns each value to a bin index\n",
    "                                                   # based on self.bins. It returns the index starting from 0\n",
    "\n",
    "    def __getitem__(self, idx):\n",
    "        # Creating image from the dataset\n",
    "        img_data = self.images_data[idx]\n",
    "        img = np.array(img_data, dtype=np.uint32)\n",
    "\n",
    "        Y_channel = (img[0:1024].reshape(32, 32, 1) / 255).astype(np.float32)\n",
    "        U_channel = (img[1024:2048].reshape(32, 32, 1) / 255).astype(np.float32)\n",
    "        V_channel = (img[2048:].reshape(32, 32, 1) / 255).astype(np.float32)\n",
    "        #return y, u, v, self.filenames[idx]\n",
    "\n",
    "    \n",
    "        #return Y_channel, U_channel, V_channel, self.filenames[idx]\n",
    "\n",
    "        # Binned shapes are (H,W)\n",
    "        U_binned = self.bin_labels(U_channel)  # Discretize U \n",
    "        V_binned = self.bin_labels(V_channel)  # Discretize V\n",
    "\n",
    "\n",
    "        return Y_channel, U_binned, V_binned, self.filenames[idx]\n",
    "\n"
   ]
  },
  {
   "cell_type": "markdown",
   "metadata": {},
   "source": [
    "### Creating a lookup table"
   ]
  },
  {
   "cell_type": "code",
   "execution_count": 43,
   "metadata": {},
   "outputs": [],
   "source": [
    "bin_count = 50\n",
    "bins = np.linspace(0, 1, bin_count)\n",
    "lookup_table = torch.zeros(50,dtype=torch.float32).to(device) \n",
    "for idx, value in enumerate(bins):\n",
    "    lookup_table[idx] = value\n",
    "\n",
    "def unbin_labels(bin_indices):\n",
    "    return lookup_table[bin_indices]"
   ]
  },
  {
   "cell_type": "code",
   "execution_count": 44,
   "metadata": {},
   "outputs": [],
   "source": [
    "# Loading the RGB images\n",
    "yuv_dataset = YUVImageClassificationDataset(filenames=filenames, images_data=yuv_images_data)\n",
    "yuv_train_loader = DataLoader(yuv_dataset, batch_size=8, shuffle = False)"
   ]
  },
  {
   "cell_type": "code",
   "execution_count": 49,
   "metadata": {},
   "outputs": [
    {
     "data": {
      "image/png": "[encoded data removed]",
      "text/plain": [
       "<Figure size 640x480 with 1 Axes>"
      ]
     },
     "metadata": {},
     "output_type": "display_data"
    },
    {
     "data": {
      "image/png": "[encoded data removed]",
      "text/plain": [
       "<Figure size 640x480 with 1 Axes>"
      ]
     },
     "metadata": {},
     "output_type": "display_data"
    }
   ],
   "source": [
    "\n",
    "for Y_channel, U_binned, V_binned, fname in yuv_train_loader:\n",
    "\n",
    "    \n",
    "    # shape (8,32,32,1) \n",
    "    U_target_rec = unbin_labels(U_binned.clone().detach())\n",
    "    V_target_rec = unbin_labels(V_binned.clone().detach())\n",
    "    \n",
    "    #shape (8,3,32,32)\n",
    "    img_batch = torch.cat([Y_channel.cpu(),U_target_rec.cpu(),V_target_rec.cpu()],dim=3).permute(0,3,1,2)\n",
    "    \n",
    "    imggg = img_batch[5]\n",
    "    imshow(imggg)\n",
    "    rgb_output = yuv_rgb(imggg.permute(1,2,0))\n",
    "\n",
    "    imshow(rgb_output) \n",
    "    \n",
    "    \n",
    "    break"
   ]
  },
  {
   "cell_type": "code",
   "execution_count": 50,
   "metadata": {},
   "outputs": [],
   "source": [
    "# ----- CLASSIFICATION CNN MODEL -----\n",
    "class ClassificationCNN(nn.Module):\n",
    "    def __init__(self, num_classes=50):\n",
    "        super(ClassificationCNN, self).__init__()\n",
    "        \n",
    "        # Initial Convolutional Layers\n",
    "        self.conv1 = nn.Sequential(\n",
    "            nn.Conv2d(1, 64, kernel_size=3, padding=1), nn.ReLU(),\n",
    "            nn.Conv2d(64, 64, kernel_size=3, padding=1), nn.ReLU()\n",
    "        )\n",
    "        self.pool1 = nn.MaxPool2d(2)\n",
    "        \n",
    "        # Second Convolutional Block\n",
    "        self.conv2 = nn.Sequential(\n",
    "            nn.Conv2d(64, 128, kernel_size=3, padding=1), nn.ReLU(),\n",
    "            nn.Conv2d(128, 128, kernel_size=3, padding=1), nn.ReLU()\n",
    "        )\n",
    "        self.pool2 = nn.MaxPool2d(2)\n",
    "        \n",
    "        # Skip Connections\n",
    "        self.skip0 = nn.Conv2d(64, 128, kernel_size=3, padding = 1)\n",
    "        \n",
    "        self.conv_final = nn.Sequential(\n",
    "            nn.Conv2d(256, 128, kernel_size=3, padding=1), nn.ReLU(),\n",
    "            nn.Conv2d(128, 64, kernel_size=3, padding=1), nn.ReLU()\n",
    "        )\n",
    "        \n",
    "        # Output Layers for Classification\n",
    "        self.output_U = nn.Conv2d(64, num_classes, kernel_size=3, padding=1)\n",
    "        self.output_V = nn.Conv2d(64, num_classes, kernel_size=3, padding=1)\n",
    "        self.softmax = nn.Softmax(dim = 1)\n",
    "\n",
    "    def forward(self, x):\n",
    "        x1 = self.conv1(x)\n",
    "        x1_pooled = self.pool1(x1)\n",
    "        \n",
    "        x2 = self.conv2(x1_pooled)\n",
    "        x2_pooled = self.pool2(x2)\n",
    "        x2_pooled_padded = F.interpolate(x2_pooled, size=(32, 32), mode='bilinear', align_corners=False)\n",
    "\n",
    "        x1_conv = self.skip0(x1)\n",
    "        x2_padded = F.interpolate(x2, size=(32, 32), mode='bilinear', align_corners=False)\n",
    "        el_wise = x1_conv + x2_padded\n",
    "        \n",
    "        # Concatenation layer\n",
    "        x_concat = torch.cat([el_wise, x2_pooled_padded], dim=1) # necessitano solo stessa H e W\n",
    "\n",
    "        # Final convolutional processing\n",
    "        x_final = self.conv_final(x_concat)\n",
    "\n",
    "        U_out = self.output_U(x_final)\n",
    "        V_out = self.output_V(x_final)\n",
    "\n",
    "        return U_out, V_out"
   ]
  },
  {
   "cell_type": "code",
   "execution_count": 51,
   "metadata": {},
   "outputs": [],
   "source": [
    "\n",
    "bin_count = 50\n",
    "model = ClassificationCNN(bin_count).to(device)\n",
    "\n",
    "\n",
    "criterion = nn.CrossEntropyLoss()\n",
    "optimizer = optim.Adam(model.parameters(), lr=1e-3)"
   ]
  },
  {
   "cell_type": "code",
   "execution_count": 12,
   "metadata": {},
   "outputs": [
    {
     "name": "stdout",
     "output_type": "stream",
     "text": [
      "Epoch [1/90], Loss: 4.7286\n",
      "Epoch [2/90], Loss: 4.6457\n",
      "Epoch [3/90], Loss: 4.6211\n",
      "Epoch [4/90], Loss: 4.6053\n",
      "Epoch [5/90], Loss: 4.5944\n",
      "Epoch [6/90], Loss: 4.5855\n",
      "Epoch [7/90], Loss: 4.5783\n",
      "Epoch [8/90], Loss: 4.5719\n",
      "Epoch [9/90], Loss: 4.5661\n",
      "Epoch [10/90], Loss: 4.5612\n",
      "Epoch [11/90], Loss: 4.5557\n",
      "Epoch [12/90], Loss: 4.5515\n",
      "Epoch [13/90], Loss: 4.5463\n",
      "Epoch [14/90], Loss: 4.5424\n",
      "Epoch [15/90], Loss: 4.5382\n",
      "Epoch [16/90], Loss: 4.5343\n",
      "Epoch [17/90], Loss: 4.5303\n",
      "Epoch [18/90], Loss: 4.5265\n",
      "Epoch [19/90], Loss: 4.5238\n",
      "Epoch [20/90], Loss: 4.5191\n",
      "Epoch [21/90], Loss: 4.5168\n",
      "Epoch [22/90], Loss: 4.5132\n",
      "Epoch [23/90], Loss: 4.5100\n",
      "Epoch [24/90], Loss: 4.5061\n",
      "Epoch [25/90], Loss: 4.5037\n",
      "Epoch [26/90], Loss: 4.4999\n",
      "Epoch [27/90], Loss: 4.4980\n",
      "Epoch [28/90], Loss: 4.4958\n",
      "Epoch [29/90], Loss: 4.4916\n",
      "Epoch [30/90], Loss: 4.4892\n",
      "Epoch [31/90], Loss: 4.4860\n",
      "Epoch [32/90], Loss: 4.4843\n",
      "Epoch [33/90], Loss: 4.4811\n",
      "Epoch [34/90], Loss: 4.4786\n",
      "Epoch [35/90], Loss: 4.4766\n",
      "Epoch [36/90], Loss: 4.4737\n",
      "Epoch [37/90], Loss: 4.4716\n",
      "Epoch [38/90], Loss: 4.4692\n",
      "Epoch [39/90], Loss: 4.4662\n",
      "Epoch [40/90], Loss: 4.4647\n",
      "Epoch [41/90], Loss: 4.4625\n",
      "Epoch [42/90], Loss: 4.4615\n",
      "Epoch [43/90], Loss: 4.4590\n",
      "Epoch [44/90], Loss: 4.4564\n",
      "Epoch [45/90], Loss: 4.4559\n",
      "Epoch [46/90], Loss: 4.4527\n",
      "Epoch [47/90], Loss: 4.4506\n",
      "Epoch [48/90], Loss: 4.4497\n",
      "Epoch [49/90], Loss: 4.4460\n",
      "Epoch [50/90], Loss: 4.4450\n",
      "Epoch [51/90], Loss: 4.4431\n",
      "Epoch [52/90], Loss: 4.4430\n",
      "Epoch [53/90], Loss: 4.4396\n",
      "Epoch [54/90], Loss: 4.4369\n",
      "Epoch [55/90], Loss: 4.4362\n",
      "Epoch [56/90], Loss: 4.4338\n",
      "Epoch [57/90], Loss: 4.4332\n",
      "Epoch [58/90], Loss: 4.4300\n",
      "Epoch [59/90], Loss: 4.4294\n",
      "Epoch [60/90], Loss: 4.4296\n",
      "Epoch [61/90], Loss: 4.4262\n",
      "Epoch [62/90], Loss: 4.4259\n",
      "Epoch [63/90], Loss: 4.4223\n",
      "Epoch [64/90], Loss: 4.4231\n",
      "Epoch [65/90], Loss: 4.4198\n",
      "Epoch [66/90], Loss: 4.4174\n",
      "Epoch [67/90], Loss: 4.4166\n",
      "Epoch [68/90], Loss: 4.4143\n",
      "Epoch [69/90], Loss: 4.4165\n",
      "Epoch [70/90], Loss: 4.4119\n",
      "Epoch [71/90], Loss: 4.4109\n",
      "Epoch [72/90], Loss: 4.4087\n",
      "Epoch [73/90], Loss: 4.4067\n",
      "Epoch [74/90], Loss: 4.4059\n",
      "Epoch [75/90], Loss: 4.4037\n",
      "Epoch [76/90], Loss: 4.4027\n",
      "Epoch [77/90], Loss: 4.4013\n",
      "Epoch [78/90], Loss: 4.3992\n",
      "Epoch [79/90], Loss: 4.3985\n",
      "Epoch [80/90], Loss: 4.3964\n",
      "Epoch [81/90], Loss: 4.3952\n",
      "Epoch [82/90], Loss: 4.3923\n",
      "Epoch [83/90], Loss: 4.3918\n",
      "Epoch [84/90], Loss: 4.3912\n",
      "Epoch [85/90], Loss: 4.3899\n",
      "Epoch [86/90], Loss: 4.3886\n",
      "Epoch [87/90], Loss: 4.3865\n",
      "Epoch [88/90], Loss: 4.3858\n",
      "Epoch [89/90], Loss: 4.3842\n",
      "Epoch [90/90], Loss: 4.3842\n"
     ]
    }
   ],
   "source": [
    "total_loss = []\n",
    "# Training Loop\n",
    "num_epochs = 90\n",
    "for epoch in range(num_epochs):\n",
    "    model.train()\n",
    "    running_loss = 0.0\n",
    "    for Y_channel, U_target, V_target, fname in yuv_train_loader:\n",
    "        Y_channel, U_target, V_target = Y_channel.permute(0,3,1,2).to(device), U_target.permute(0,3,1,2).to(device), V_target.permute(0,3,1,2).to(device)\n",
    "        \n",
    "\n",
    "        optimizer.zero_grad()\n",
    "        U_pred, V_pred = model(Y_channel)\n",
    "        #print('U pred: \\n',U_pred)\n",
    "\n",
    "        loss_U = criterion(U_pred, U_target.squeeze(1))\n",
    "        loss_V = criterion(V_pred, V_target.squeeze(1))\n",
    "        loss = loss_U + loss_V\n",
    "\n",
    "        loss.backward()\n",
    "        optimizer.step()\n",
    "\n",
    "        running_loss += loss.item()\n",
    "\n",
    "    print(f\"Epoch [{epoch+1}/{num_epochs}], Loss: {running_loss/len(yuv_train_loader):.4f}\")\n",
    "\n",
    "# Save Model\n",
    "torch.save(model.state_dict(), f\"models/classification_{num_epochs}ep.pth\")"
   ]
  },
  {
   "cell_type": "code",
   "execution_count": 52,
   "metadata": {},
   "outputs": [],
   "source": [
    "def converter(pred):\n",
    "    softmax = nn.Softmax(dim = 1).to(device)\n",
    "    probs = softmax(pred)\n",
    "    _, ind = torch.topk(probs,1,1)\n",
    "    return ind"
   ]
  },
  {
   "cell_type": "code",
   "execution_count": 53,
   "metadata": {},
   "outputs": [],
   "source": [
    "bin_count = 50\n",
    "bins = np.linspace(0, 1, bin_count)\n",
    "lookup_table = torch.zeros(50).to(device) \n",
    "for idx, value in enumerate(bins):\n",
    "    lookup_table[idx] = value\n",
    "\n",
    "def unbin_labels(bin_indices):\n",
    "    return lookup_table[bin_indices]"
   ]
  },
  {
   "cell_type": "code",
   "execution_count": 55,
   "metadata": {},
   "outputs": [
    {
     "data": {
      "text/plain": [
       "<All keys matched successfully>"
      ]
     },
     "execution_count": 55,
     "metadata": {},
     "output_type": "execute_result"
    }
   ],
   "source": [
    "model.load_state_dict(torch.load(\"models/classification_60ep_e_3_adam.pth\",map_location=torch.device('cpu')))"
   ]
  },
  {
   "cell_type": "code",
   "execution_count": 58,
   "metadata": {},
   "outputs": [
    {
     "ename": "ImportError",
     "evalue": "cannot import name 'saturation_difference' from 'accuracy_metric' (/Users/mihriban/Desktop/Colorization/accuracy_metric.py)",
     "output_type": "error",
     "traceback": [
      "\u001b[0;31m---------------------------------------------------------------------------\u001b[0m",
      "\u001b[0;31mImportError\u001b[0m                               Traceback (most recent call last)",
      "Cell \u001b[0;32mIn[58], line 1\u001b[0m\n\u001b[0;32m----> 1\u001b[0m \u001b[38;5;28;01mfrom\u001b[39;00m\u001b[38;5;250m \u001b[39m\u001b[38;5;21;01maccuracy_metric\u001b[39;00m\u001b[38;5;250m \u001b[39m\u001b[38;5;28;01mimport\u001b[39;00m saturation_difference,auc_color_accuracy\n\u001b[1;32m      4\u001b[0m \u001b[38;5;66;03m#saturation_difference(original, prediction)\u001b[39;00m\n\u001b[1;32m      5\u001b[0m \u001b[38;5;66;03m#auc_color_accuracy(predicted_image, ground_truth_image, thresholds=np.arange(0, 151))\u001b[39;00m\n",
      "\u001b[0;31mImportError\u001b[0m: cannot import name 'saturation_difference' from 'accuracy_metric' (/Users/mihriban/Desktop/Colorization/accuracy_metric.py)"
     ]
    }
   ],
   "source": [
    "from accuracy_metric import saturation_difference,auc_color_accuracy\n",
    "\n",
    "\n",
    "#saturation_difference(original, prediction)\n",
    "#auc_color_accuracy(predicted_image, ground_truth_image, thresholds=np.arange(0, 151))\n"
   ]
  },
  {
   "cell_type": "code",
   "execution_count": 59,
   "metadata": {},
   "outputs": [
    {
     "name": "stdout",
     "output_type": "stream",
     "text": [
      "Filename: bos_taurus_s_000507.png\n"
     ]
    },
    {
     "data": {
      "image/png": "[encoded data removed]",
      "text/plain": [
       "<Figure size 640x480 with 1 Axes>"
      ]
     },
     "metadata": {},
     "output_type": "display_data"
    },
    {
     "data": {
      "image/png": "[encoded data removed]",
      "text/plain": [
       "<Figure size 640x480 with 1 Axes>"
      ]
     },
     "metadata": {},
     "output_type": "display_data"
    },
    {
     "ename": "NameError",
     "evalue": "name 'saturation_difference' is not defined",
     "output_type": "error",
     "traceback": [
      "\u001b[0;31m---------------------------------------------------------------------------\u001b[0m",
      "\u001b[0;31mNameError\u001b[0m                                 Traceback (most recent call last)",
      "Cell \u001b[0;32mIn[59], line 30\u001b[0m\n\u001b[1;32m     28\u001b[0m imshow(rgb_output) \n\u001b[1;32m     29\u001b[0m imshow(rgb_output_pred) \n\u001b[0;32m---> 30\u001b[0m \u001b[38;5;28mprint\u001b[39m(\u001b[38;5;124m\"\u001b[39m\u001b[38;5;124mSaturation difference: \u001b[39m\u001b[38;5;124m\"\u001b[39m,\u001b[43msaturation_difference\u001b[49m(image_yuv, image_yuv_pred))\n\u001b[1;32m     33\u001b[0m \u001b[38;5;28;01mbreak\u001b[39;00m\n",
      "\u001b[0;31mNameError\u001b[0m: name 'saturation_difference' is not defined"
     ]
    }
   ],
   "source": [
    "for Y_channel, U_target, V_target, fname in yuv_train_loader:\n",
    "    Y_channel, U_target, V_target = Y_channel.to(device), U_target.to(device), V_target.to(device)\n",
    "    \n",
    "    U_pred, V_pred = model(Y_channel.permute(0,3,1,2))\n",
    "    \n",
    "    conv_pred_U = converter(U_pred.cpu())\n",
    "    conv_pred_V = converter(V_pred.cpu())\n",
    "\n",
    "    pred_U_rec = unbin_labels(conv_pred_U.clone().detach())\n",
    "    pred_V_rec = unbin_labels(conv_pred_V.clone().detach())\n",
    "\n",
    "    reconstructed_pred = torch.cat([Y_channel.permute(0,3,1,2).cpu(),pred_U_rec.cpu(),pred_V_rec.cpu()],dim=1)\n",
    "\n",
    "    U_target_rec = unbin_labels(U_target)\n",
    "    V_target_rec = unbin_labels(V_target)\n",
    "\n",
    "    reconstructed_img = torch.cat([Y_channel.cpu(),U_target_rec.cpu(),V_target_rec.cpu()],dim=3).permute(0,3,1,2)\n",
    "\n",
    "    image_yuv = reconstructed_img[2]  \n",
    "    image_yuv_pred = reconstructed_pred[2]\n",
    "\n",
    "    # Need to resize first\n",
    "    rgb_output = yuv_rgb(image_yuv.permute(1,2,0))\n",
    "    rgb_output_pred = yuv_rgb(image_yuv_pred.permute(1,2,0))\n",
    "\n",
    "    print(f\"Filename: {fname[0]}\")\n",
    "\n",
    "    imshow(rgb_output) \n",
    "    imshow(rgb_output_pred) \n",
    "    print(\"Saturation difference: \",saturation_difference(image_yuv, image_yuv_pred))\n",
    "    \n",
    "    \n",
    "    break"
   ]
  },
  {
   "cell_type": "code",
   "execution_count": null,
   "metadata": {},
   "outputs": [],
   "source": []
  }
 ],
 "metadata": {
  "kernelspec": {
   "display_name": ".venv",
   "language": "python",
   "name": "python3"
  },
  "language_info": {
   "codemirror_mode": {
    "name": "ipython",
    "version": 3
   },
   "file_extension": ".py",
   "mimetype": "text/x-python",
   "name": "python",
   "nbconvert_exporter": "python",
   "pygments_lexer": "ipython3",
   "version": "3.10.12"
  }
 },
 "nbformat": 4,
 "nbformat_minor": 2
}
