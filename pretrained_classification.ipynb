{
 "cells": [
  {
   "cell_type": "code",
   "execution_count": 1,
   "metadata": {},
   "outputs": [],
   "source": [
    "from plotting import imshow\n",
    "import torch\n",
    "import torchvision.models as models\n",
    "import torch.optim as optim\n",
    "import torch.nn as nn\n",
    "import torch.nn.functional as F\n",
    "import numpy as np\n",
    "import pickle\n",
    "from torch.utils.data import Dataset, DataLoader\n",
    "import cv2\n",
    "device = torch.device(\"cuda\" if torch.cuda.is_available() else \"cpu\")"
   ]
  },
  {
   "cell_type": "code",
   "execution_count": 2,
   "metadata": {},
   "outputs": [],
   "source": [
    "def unpickle(file):\n",
    "    with open(file, 'rb') as fo:\n",
    "        dict = pickle.load(fo, encoding='bytes')\n",
    "    return dict"
   ]
  },
  {
   "cell_type": "code",
   "execution_count": 3,
   "metadata": {},
   "outputs": [],
   "source": [
    "# RGB training data load\n",
    "yuv_train_set = unpickle('yuv_train')\n",
    "\n",
    "# Image names \n",
    "filenames = [f.decode('utf-8') for f in yuv_train_set[b'filenames']]\n",
    "\n",
    "# Getting the images\n",
    "yuv_images_data = yuv_train_set[b'data'].copy() "
   ]
  },
  {
   "cell_type": "code",
   "execution_count": 4,
   "metadata": {},
   "outputs": [],
   "source": [
    "# Input tensor(H,W,C) -> output tensor(C,H,W)\n",
    "def yuv_rgb(array):\n",
    "    new_array = array.numpy().astype(np.float32).copy()\n",
    "    new_array = cv2.cvtColor(new_array, cv2.COLOR_YUV2RGB)\n",
    "    \n",
    "    return torch.tensor((new_array*255).astype(np.uint32)).permute(2, 0, 1)"
   ]
  },
  {
   "cell_type": "code",
   "execution_count": 5,
   "metadata": {},
   "outputs": [],
   "source": [
    "class YUVImageClassificationDataset(Dataset):\n",
    "    def __init__(self, filenames, images_data, bin_count=50):\n",
    "        self.filenames = filenames # image name\n",
    "        self.images_data = images_data # images data: data used to construct the images \n",
    "        self.bin_count = bin_count # number of bins used \n",
    "        self.bins = np.linspace(0, 1, bin_count)  # Bin edges\n",
    "        # we are creating bins between 0 and 1 in order to have the values of u and v\n",
    "\n",
    "    def __len__(self):\n",
    "        return len(self.filenames)\n",
    "    \n",
    "    def bin_labels(self, values):\n",
    "        return np.digitize(values, self.bins) -1 # Map values to bin indices\n",
    "                                                   # This function takes values and assigns each value to a bin index\n",
    "                                                   # based on self.bins. It returns the index starting from 0\n",
    "\n",
    "    def __getitem__(self, idx):\n",
    "        # Creating image from the dataset\n",
    "        img_data = self.images_data[idx]\n",
    "        img = np.array(img_data, dtype=np.uint32)\n",
    "\n",
    "        Y_channel = (img[0:1024].reshape(32, 32, 1) / 255).astype(np.float32)\n",
    "        U_channel = (img[1024:2048].reshape(32, 32, 1) / 255).astype(np.float32)\n",
    "        V_channel = (img[2048:].reshape(32, 32, 1) / 255).astype(np.float32)\n",
    "        #return y, u, v, self.filenames[idx]\n",
    "\n",
    "    \n",
    "        #return Y_channel, U_channel, V_channel, self.filenames[idx]\n",
    "\n",
    "        # Binned shapes are (H,W)\n",
    "        U_binned = self.bin_labels(U_channel)  # Discretize U \n",
    "        V_binned = self.bin_labels(V_channel)  # Discretize V\n",
    "\n",
    "\n",
    "        return Y_channel, U_binned, V_binned, self.filenames[idx]\n",
    "\n"
   ]
  },
  {
   "cell_type": "markdown",
   "metadata": {},
   "source": [
    "### Creating a lookup table"
   ]
  },
  {
   "cell_type": "code",
   "execution_count": 6,
   "metadata": {},
   "outputs": [],
   "source": [
    "bin_count = 50\n",
    "bins = np.linspace(0, 1, bin_count)\n",
    "lookup_table = torch.zeros(50,dtype=torch.float32).to(device) \n",
    "for idx, value in enumerate(bins):\n",
    "    lookup_table[idx] = value\n",
    "\n",
    "def unbin_labels(bin_indices):\n",
    "    return lookup_table[bin_indices]"
   ]
  },
  {
   "cell_type": "code",
   "execution_count": 7,
   "metadata": {},
   "outputs": [],
   "source": [
    "# Loading the RGB images\n",
    "yuv_dataset = YUVImageClassificationDataset(filenames=filenames, images_data=yuv_images_data)\n",
    "yuv_train_loader = DataLoader(yuv_dataset, batch_size=8, shuffle = False)"
   ]
  },
  {
   "cell_type": "code",
   "execution_count": null,
   "metadata": {},
   "outputs": [
    {
     "data": {
      "image/png": "[encoded data removed]",
      "text/plain": [
       "<Figure size 640x480 with 1 Axes>"
      ]
     },
     "metadata": {},
     "output_type": "display_data"
    },
    {
     "name": "stderr",
     "output_type": "stream",
     "text": [
      "Clipping input data to the valid range for imshow with RGB data ([0..1] for floats or [0..255] for integers). Got range [0..4294967295].\n"
     ]
    },
    {
     "data": {
      "image/png": "[encoded data removed]",
      "text/plain": [
       "<Figure size 640x480 with 1 Axes>"
      ]
     },
     "metadata": {},
     "output_type": "display_data"
    }
   ],
   "source": [
    "for Y_channel, U_binned, V_binned, fname in yuv_train_loader:\n",
    "    \n",
    "    # shape (8,32,32,1) \n",
    "    U_target_rec = unbin_labels(U_binned.clone().detach())\n",
    "    V_target_rec = unbin_labels(V_binned.clone().detach())\n",
    "    \n",
    "    #shape (8,3,32,32)\n",
    "    img_batch = torch.cat([Y_channel.cpu(),U_target_rec.cpu(),V_target_rec.cpu()],dim=3).permute(0,3,1,2)\n",
    "    \n",
    "    imggg = img_batch[5]\n",
    "    imshow(imggg)\n",
    "    rgb_output = yuv_rgb(imggg.permute(1,2,0))\n",
    "\n",
    "    imshow(rgb_output) \n",
    "    \n",
    "    \n",
    "    break"
   ]
  },
  {
   "cell_type": "code",
   "execution_count": 13,
   "metadata": {},
   "outputs": [],
   "source": [
    "# ----- CLASSIFICATION CNN MODEL -----\n",
    "class PretrainedClassificationCNN(nn.Module):\n",
    "    def __init__(self, num_classes=50):\n",
    "        super(PretrainedClassificationCNN, self).__init__()\n",
    "        \n",
    "        # Use a pretrained MobileNetV2 as an encoder\n",
    "        mobilenet = models.mobilenet_v2(weights=models.MobileNet_V2_Weights.DEFAULT)\n",
    "        self.encoder = mobilenet.features[:-1]  # Remove last downsampling to preserve spatial info\n",
    "        \n",
    "        # Adaptive pooling to maintain spatial size (Adjusted to match 32x32 output)\n",
    "        self.adaptive_pool = nn.AdaptiveAvgPool2d((8, 8))  # Adjusted output size\n",
    "        \n",
    "        # Initial Convolutional Layers (Adjust input channels to match MobileNetV2 output)\n",
    "        self.conv1 = nn.Sequential(\n",
    "            nn.Conv2d(320, 128, kernel_size=3, padding=1), nn.ReLU(),\n",
    "            nn.Conv2d(128, 128, kernel_size=3, padding=1), nn.ReLU()\n",
    "        )\n",
    "        self.upsample1 = nn.Upsample(scale_factor=2, mode='bilinear', align_corners=True)  # Replace max pooling with upsampling\n",
    "        \n",
    "        # Second Convolutional Block\n",
    "        self.conv2 = nn.Sequential(\n",
    "            nn.Conv2d(128, 128, kernel_size=3, padding=1), nn.ReLU(),\n",
    "            nn.Conv2d(128, 128, kernel_size=3, padding=1), nn.ReLU()\n",
    "        )\n",
    "        self.upsample2 = nn.Upsample(scale_factor=2, mode='bilinear', align_corners=True)\n",
    "        \n",
    "        # Skip Connections\n",
    "        self.skip0 = nn.Conv2d(128, 128, kernel_size=3, padding=1)\n",
    "        \n",
    "        self.conv_final = nn.Sequential(\n",
    "            nn.Conv2d(128, 64, kernel_size=3, padding=1), nn.ReLU(),\n",
    "            nn.Conv2d(64, 64, kernel_size=3, padding=1), nn.ReLU()\n",
    "        )\n",
    "        \n",
    "        # Output Layers for Classification (Updated output channels to 50)\n",
    "        self.output_U = nn.Conv2d(64, num_classes, kernel_size=3, padding=1)\n",
    "        self.output_V = nn.Conv2d(64, num_classes, kernel_size=3, padding=1)\n",
    "        \n",
    "    def forward(self, x):\n",
    "        x = x.repeat(1, 3, 1, 1)  # Convert grayscale (1-channel) to 3-channel\n",
    "        x = self.encoder(x)\n",
    "        x = self.adaptive_pool(x)  # Maintain resolution\n",
    "        x = self.conv1(x)\n",
    "        x = self.upsample1(x)  # Upsample instead of pooling\n",
    "        x = self.conv2(x)\n",
    "        x = self.upsample2(x)\n",
    "        x = self.skip0(x)\n",
    "        x = self.conv_final(x)\n",
    "        u = self.output_U(x)\n",
    "        v = self.output_V(x)\n",
    "        return u, v\n",
    "\n"
   ]
  },
  {
   "cell_type": "code",
   "execution_count": 14,
   "metadata": {},
   "outputs": [],
   "source": [
    "\n",
    "bin_count = 50\n",
    "model = PretrainedClassificationCNN(bin_count).to(device)\n",
    "\n",
    "criterion = nn.CrossEntropyLoss()\n",
    "optimizer = optim.Adam(model.parameters(), lr=1e-3)"
   ]
  },
  {
   "cell_type": "code",
   "execution_count": 15,
   "metadata": {},
   "outputs": [
    {
     "name": "stdout",
     "output_type": "stream",
     "text": [
      "Epoch [1/10], Loss: 5.0217\n",
      "Epoch [2/10], Loss: 5.0058\n",
      "Epoch [3/10], Loss: 5.0032\n",
      "Epoch [4/10], Loss: 5.0020\n",
      "Epoch [5/10], Loss: 5.0014\n",
      "Epoch [6/10], Loss: 5.0013\n",
      "Epoch [7/10], Loss: 5.0007\n",
      "Epoch [8/10], Loss: 5.0003\n",
      "Epoch [9/10], Loss: 5.0003\n",
      "Epoch [10/10], Loss: 5.0000\n"
     ]
    }
   ],
   "source": [
    "total_loss = []\n",
    "# Training Loop\n",
    "num_epochs = 10\n",
    "for epoch in range(num_epochs):\n",
    "    model.train()\n",
    "    running_loss = 0.0\n",
    "    for Y_channel, U_target, V_target, fname in yuv_train_loader:\n",
    "        Y_channel, U_target, V_target = Y_channel.permute(0,3,1,2).to(device), U_target.permute(0,3,1,2).to(device), V_target.permute(0,3,1,2).to(device)\n",
    "\n",
    "        optimizer.zero_grad()\n",
    "        U_pred, V_pred = model(Y_channel)\n",
    "        #print('U pred: \\n',U_pred)\n",
    "\n",
    "        loss_U = criterion(U_pred, U_target.squeeze(1))\n",
    "        loss_V = criterion(V_pred, V_target.squeeze(1))\n",
    "        loss = loss_U + loss_V\n",
    "\n",
    "        loss.backward()\n",
    "        optimizer.step()\n",
    "\n",
    "        running_loss += loss.item()\n",
    "\n",
    "    print(f\"Epoch [{epoch+1}/{num_epochs}], Loss: {running_loss/len(yuv_train_loader):.4f}\")\n",
    "\n",
    "# Save Model\n",
    "torch.save(model.state_dict(), f\"models/pretrainedclassification_{num_epochs}ep.pth\")"
   ]
  },
  {
   "cell_type": "code",
   "execution_count": 16,
   "metadata": {},
   "outputs": [],
   "source": [
    "def converter(pred):\n",
    "    softmax = nn.Softmax(dim = 1).to(device)\n",
    "    probs = softmax(pred)\n",
    "    _, ind = torch.topk(probs,1,1)\n",
    "    return ind"
   ]
  },
  {
   "cell_type": "code",
   "execution_count": 17,
   "metadata": {},
   "outputs": [],
   "source": [
    "bin_count = 50\n",
    "bins = np.linspace(0, 1, bin_count)\n",
    "lookup_table = torch.zeros(50).to(device) \n",
    "for idx, value in enumerate(bins):\n",
    "    lookup_table[idx] = value\n",
    "\n",
    "def unbin_labels(bin_indices):\n",
    "    return lookup_table[bin_indices]"
   ]
  },
  {
   "cell_type": "code",
   "execution_count": 19,
   "metadata": {},
   "outputs": [
    {
     "data": {
      "text/plain": [
       "<All keys matched successfully>"
      ]
     },
     "execution_count": 19,
     "metadata": {},
     "output_type": "execute_result"
    }
   ],
   "source": [
    "model.load_state_dict(torch.load(\"models/pretrainedclassification_10ep.pth\"))"
   ]
  },
  {
   "cell_type": "code",
   "execution_count": 21,
   "metadata": {},
   "outputs": [
    {
     "name": "stderr",
     "output_type": "stream",
     "text": [
      "Clipping input data to the valid range for imshow with RGB data ([0..1] for floats or [0..255] for integers). Got range [29..257].\n"
     ]
    },
    {
     "name": "stdout",
     "output_type": "stream",
     "text": [
      "Filename: bos_taurus_s_000507.png\n"
     ]
    },
    {
     "data": {
      "image/png": "[encoded data removed]",
      "text/plain": [
       "<Figure size 640x480 with 1 Axes>"
      ]
     },
     "metadata": {},
     "output_type": "display_data"
    },
    {
     "name": "stderr",
     "output_type": "stream",
     "text": [
      "Clipping input data to the valid range for imshow with RGB data ([0..1] for floats or [0..255] for integers). Got range [51..257].\n"
     ]
    },
    {
     "data": {
      "image/png": "[encoded data removed]",
      "text/plain": [
       "<Figure size 640x480 with 1 Axes>"
      ]
     },
     "metadata": {},
     "output_type": "display_data"
    }
   ],
   "source": [
    "for Y_channel, U_target, V_target, fname in yuv_train_loader:\n",
    "    Y_channel, U_target, V_target = Y_channel.to(device), U_target.to(device), V_target.to(device)\n",
    "    \n",
    "    U_pred, V_pred = model(Y_channel.permute(0,3,1,2))\n",
    "    \n",
    "    conv_pred_U = converter(U_pred.cpu())\n",
    "    conv_pred_V = converter(V_pred.cpu())\n",
    "\n",
    "    pred_U_rec = unbin_labels(conv_pred_U.clone().detach())\n",
    "    pred_V_rec = unbin_labels(conv_pred_V.clone().detach())\n",
    "\n",
    "    reconstructed_pred = torch.cat([Y_channel.permute(0,3,1,2).cpu(),pred_U_rec.cpu(),pred_V_rec.cpu()],dim=1)\n",
    "\n",
    "    U_target_rec = unbin_labels(U_target)\n",
    "    V_target_rec = unbin_labels(V_target)\n",
    "\n",
    "    reconstructed_img = torch.cat([Y_channel.cpu(),U_target_rec.cpu(),V_target_rec.cpu()],dim=3).permute(0,3,1,2)\n",
    "\n",
    "    image_yuv = reconstructed_img[1]  \n",
    "    image_yuv_pred = reconstructed_pred[1]\n",
    "\n",
    "    # Need to resize first\n",
    "    rgb_output = yuv_rgb(image_yuv.permute(1,2,0))\n",
    "    rgb_output_pred = yuv_rgb(image_yuv_pred.permute(1,2,0))\n",
    "\n",
    "    print(f\"Filename: {fname[0]}\")\n",
    "\n",
    "    imshow(rgb_output) \n",
    "    imshow(rgb_output_pred) \n",
    "    \n",
    "    \n",
    "    break"
   ]
  },
  {
   "cell_type": "code",
   "execution_count": null,
   "metadata": {},
   "outputs": [],
   "source": []
  }
 ],
 "metadata": {
  "kernelspec": {
   "display_name": ".venv",
   "language": "python",
   "name": "python3"
  },
  "language_info": {
   "codemirror_mode": {
    "name": "ipython",
    "version": 3
   },
   "file_extension": ".py",
   "mimetype": "text/x-python",
   "name": "python",
   "nbconvert_exporter": "python",
   "pygments_lexer": "ipython3",
   "version": "3.10.12"
  }
 },
 "nbformat": 4,
 "nbformat_minor": 2
}
